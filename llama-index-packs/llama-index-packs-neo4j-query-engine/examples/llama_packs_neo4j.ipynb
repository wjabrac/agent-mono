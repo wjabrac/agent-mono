{
 "cells": [
  {
   "cell_type": "markdown",
   "metadata": {},
   "source": [
    "# Llama Pack - Neo4j Query Engine\n",
    "\n",
    "<a href=\"https://colab.research.google.com/github/run-llama/llama_index/blob/main/llama-index-packs/llama-index-packs-neo4j-query-engine/examples/llama_packs_neo4j.ipynb\" target=\"_parent\"><img src=\"https://colab.research.google.com/assets/colab-badge.svg\" alt=\"Open In Colab\"/></a>\n",
    "\n",
    "This Llama Pack creates a Neo4j knowledge graph query engine, and executes its `query` function. This pack offers the option of creating multiple types of query engines for Neo4j knowledge graphs, namely:\n",
    "\n",
    "* Knowledge graph vector-based entity retrieval (default if no query engine type option is provided)\n",
    "* Knowledge graph keyword-based entity retrieval\n",
    "* Knowledge graph hybrid entity retrieval\n",
    "* Raw vector index retrieval\n",
    "* Custom combo query engine (vector similarity + KG entity retrieval)\n",
    "* KnowledgeGraphQueryEngine\n",
    "* KnowledgeGraphRAGRetriever\n",
    "\n",
    "For this notebook, we will load a Wikipedia page on paleo diet into Neo4j KG and perform queries."
   ]
  },
  {
   "cell_type": "code",
   "execution_count": null,
   "metadata": {},
   "outputs": [],
   "source": [
    "%pip install llama-index-readers-wikipedia\n",
    "%pip install llama-hub-llama-packs-neo4j-query-engine-base"
   ]
  },
  {
   "cell_type": "code",
   "execution_count": null,
   "metadata": {},
   "outputs": [],
   "source": [
    "!pip install llama_index llama_hub neo4j"
   ]
  },
  {
   "cell_type": "code",
   "execution_count": null,
   "metadata": {},
   "outputs": [],
   "source": [
    "import os, openai, logging, sys\n",
    "\n",
    "os.environ[\"OPENAI_API_KEY\"] = \"sk-#######################\"\n",
    "\n",
    "logging.basicConfig(stream=sys.stdout, level=logging.DEBUG)"
   ]
  },
  {
   "cell_type": "markdown",
   "metadata": {},
   "source": [
    "## Setup Data\n",
    "\n",
    "Load a Wikipedia page on paleo diet."
   ]
  },
  {
   "cell_type": "code",
   "execution_count": null,
   "metadata": {},
   "outputs": [
    {
     "name": "stdout",
     "output_type": "stream",
     "text": [
      "Loaded 1 documents\n"
     ]
    }
   ],
   "source": [
    "from llama_index.core import download_loader\n",
    "\n",
    "from llama_index.readers.wikipedia import WikipediaReader\n",
    "\n",
    "loader = WikipediaReader()\n",
    "documents = loader.load_data(pages=[\"Paleolithic diet\"], auto_suggest=False)\n",
    "print(f\"Loaded {len(documents)} documents\")"
   ]
  },
  {
   "cell_type": "markdown",
   "metadata": {},
   "source": [
    "## Download and Initialize Pack"
   ]
  },
  {
   "cell_type": "code",
   "execution_count": null,
   "metadata": {},
   "outputs": [],
   "source": [
    "from llama_index.core.llama_pack import download_llama_pack\n",
    "\n",
    "# download and install dependencies\n",
    "Neo4jQueryEnginePack = download_llama_pack(\"Neo4jQueryEnginePack\", \"./neo4j_pack\")"
   ]
  },
  {
   "cell_type": "markdown",
   "metadata": {},
   "source": [
    "Assume you have the credentials for Neo4j stored in `credentials.json` at the project root, you load the json and extract the credential details."
   ]
  },
  {
   "cell_type": "code",
   "execution_count": null,
   "metadata": {},
   "outputs": [],
   "source": [
    "import json\n",
    "\n",
    "# get Neo4j credentials (assume it's stored in credentials.json)\n",
    "with open(\"credentials.json\") as f:\n",
    "    neo4j_connection_params = json.load(f)\n",
    "    username = neo4j_connection_params[\"username\"]\n",
    "    password = neo4j_connection_params[\"password\"]\n",
    "    url = neo4j_connection_params[\"url\"]\n",
    "    database = neo4j_connection_params[\"database\"]"
   ]
  },
  {
   "cell_type": "markdown",
   "metadata": {},
   "source": [
    "See below how `Neo4jQueryEnginePack` is constructed.  You can pass in the `query_engine_type` from `Neo4jQueryEngineType` to construct `Neo4jQueryEnginePack`. The code snippet below shows a KG keyword query engine.  If `query_engine_type` is not defined, it defaults to KG vector based entity retrieval.\n",
    "\n",
    "`Neo4jQueryEngineType` is an enum, which holds various query engine types, see below. You can pass in any of these query engine types to construct `Neo4jQueryEnginePack`.\n",
    "```\n",
    "class Neo4jQueryEngineType(str, Enum):\n",
    "    \"\"\"Neo4j query engine type\"\"\"\n",
    "\n",
    "    KG_KEYWORD = \"keyword\"\n",
    "    KG_HYBRID = \"hybrid\"\n",
    "    RAW_VECTOR = \"vector\"\n",
    "    RAW_VECTOR_KG_COMBO = \"vector_kg\"\n",
    "    KG_QE = \"KnowledgeGraphQueryEngine\"\n",
    "    KG_RAG_RETRIEVER = \"KnowledgeGraphRAGRetriever\"\n",
    "```"
   ]
  },
  {
   "cell_type": "code",
   "execution_count": null,
   "metadata": {},
   "outputs": [
    {
     "name": "stdout",
     "output_type": "stream",
     "text": [
      "loaded nodes with 8 nodes\n"
     ]
    }
   ],
   "source": [
    "from llama_index.packs.neo4j_query_engine.base import Neo4jQueryEngineType\n",
    "\n",
    "# create the pack\n",
    "neo4j_pack = Neo4jQueryEnginePack(\n",
    "    username=username,\n",
    "    password=password,\n",
    "    url=url,\n",
    "    database=database,\n",
    "    docs=documents,\n",
    "    query_engine_type=Neo4jQueryEngineType.KG_KEYWORD,\n",
    ")"
   ]
  },
  {
   "cell_type": "markdown",
   "metadata": {},
   "source": [
    "## Run Pack"
   ]
  },
  {
   "cell_type": "code",
   "execution_count": null,
   "metadata": {},
   "outputs": [
    {
     "data": {
      "text/markdown": [
       "<b>The benefits of the paleo diet include a re-imagining of what Paleolithic people ate, a diet that is 65% plant-based, and the forbidding of consumption of all dairy products. The diet is based on the evolutionary discordance hypothesis, which suggests that many chronic diseases and degenerative conditions evident in modern Western populations have arisen because of a mismatch between Stone Age genes and modern lifestyles.</b>"
      ],
      "text/plain": [
       "<IPython.core.display.Markdown object>"
      ]
     },
     "metadata": {},
     "output_type": "display_data"
    }
   ],
   "source": [
    "from IPython.display import Markdown\n",
    "\n",
    "response = neo4j_pack.run(\"Tell me about the benefits of paleo diet.\")\n",
    "display(Markdown(f\"<b>{response}</b>\"))"
   ]
  },
  {
   "cell_type": "markdown",
   "metadata": {},
   "source": [
    "Let's try out the KG hybrid query engine. See code below.  You can try any other query engines in a similar way by replacing the `query_engine_type` with another query engine type from `Neo4jQueryEngineType` enum."
   ]
  },
  {
   "cell_type": "code",
   "execution_count": null,
   "metadata": {},
   "outputs": [
    {
     "name": "stdout",
     "output_type": "stream",
     "text": [
      "loaded nodes with 8 nodes\n"
     ]
    },
    {
     "data": {
      "text/markdown": [
       "<b>The paleo diet is believed to have several benefits. It is thought that following this diet may lead to improvements in body composition and metabolism compared to the typical Western diet. The emphasis on whole, unprocessed foods in the paleo diet can also help reduce the intake of added sugars and salt. Additionally, the diet may promote satiety, which can aid in weight loss. However, it is important to note that the paleo diet can lead to nutritional deficiencies, such as inadequate calcium intake, and may increase the risk of ingesting toxins from high fish consumption. The effectiveness of the paleo diet in reducing the risk of cardiovascular disease or treating inflammatory bowel disease is not supported by strong evidence.</b>"
      ],
      "text/plain": [
       "<IPython.core.display.Markdown object>"
      ]
     },
     "metadata": {},
     "output_type": "display_data"
    }
   ],
   "source": [
    "neo4j_pack = Neo4jQueryEnginePack(\n",
    "    username=username,\n",
    "    password=password,\n",
    "    url=url,\n",
    "    database=database,\n",
    "    docs=documents,\n",
    "    query_engine_type=Neo4jQueryEngineType.KG_HYBRID,\n",
    ")\n",
    "\n",
    "response = neo4j_pack.run(\"Tell me about the benefits of paleo diet.\")\n",
    "display(Markdown(f\"<b>{response}</b>\"))"
   ]
  },
  {
   "cell_type": "markdown",
   "metadata": {},
   "source": [
    "## Comparison of the Knowledge Graph Query Strategies\n",
    "\n",
    "The table below lists the details of the 7 query engines, and their pros and cons based on experiments with NebulaGraph and LlamaIndex, as outlined in the blog post [7 Query Strategies for Navigating Knowledge Graphs with LlamaIndex](https://betterprogramming.pub/7-query-strategies-for-navigating-knowledge-graphs-with-llamaindex-ed551863d416?sk=55c94ad72e75aa52ac6cc21d8145b37d)."
   ]
  },
  {
   "cell_type": "markdown",
   "metadata": {},
   "source": [
    "![Knowledge Graph query strategies comparison](https://miro.medium.com/v2/resize:fit:1400/format:webp/1*0UsLpj7v2GO67U-99YJBfg.png)"
   ]
  }
 ],
 "metadata": {
  "colab": {
   "machine_shape": "hm",
   "provenance": []
  },
  "kernelspec": {
   "display_name": "Python 3",
   "name": "python3"
  },
  "language_info": {
   "name": "python"
  }
 },
 "nbformat": 4,
 "nbformat_minor": 0
}
